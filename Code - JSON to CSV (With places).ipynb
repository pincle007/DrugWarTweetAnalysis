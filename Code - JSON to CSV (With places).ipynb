{
 "cells": [
  {
   "cell_type": "code",
   "execution_count": 3,
   "id": "4185bc77",
   "metadata": {},
   "outputs": [],
   "source": [
    "import json\n",
    "import csv\n",
    "import os\n",
    "import numpy as np\n",
    "import pandas as pd\n",
    "from pandas.io.json import json_normalize"
   ]
  },
  {
   "cell_type": "code",
   "execution_count": 4,
   "id": "00791143",
   "metadata": {},
   "outputs": [],
   "source": [
    "def get_list_of_json_files():\n",
    "    list_of_files = os.listdir('C:/Users/paras/Desktop/aaaaaaaaaaa/UNT Assignments/Research/Research - Drug war analysis/Data/Original data')\n",
    "    return list_of_files"
   ]
  },
  {
   "cell_type": "code",
   "execution_count": 5,
   "id": "2a9e21ae",
   "metadata": {},
   "outputs": [
    {
     "data": {
      "text/plain": [
       "['tweet_collected_4Emily_2011_#DrugWar.json',\n",
       " 'tweet_collected_4Emily_2011_#GuerraContraLasDrogas.json',\n",
       " 'tweet_collected_4Emily_2011_#WarOnDrugs.json',\n",
       " 'tweet_collected_4Emily_2012_#DrugWar.json',\n",
       " 'tweet_collected_4Emily_2012_#GuerraContraLasDrogas.json',\n",
       " 'tweet_collected_4Emily_2012_#WarOnDrugs.json',\n",
       " 'tweet_collected_4Emily_2013_#DrugWar.json',\n",
       " 'tweet_collected_4Emily_2013_#GuerraContraLasDrogas.json',\n",
       " 'tweet_collected_4Emily_2013_#WarOnDrugs.json',\n",
       " 'tweet_collected_4Emily_2014_#DrugWar.json',\n",
       " 'tweet_collected_4Emily_2014_#GuerraContraLasDrogas.json',\n",
       " 'tweet_collected_4Emily_2014_#WarOnDrugs.json',\n",
       " 'tweet_collected_4Emily_2015_#DrugWar.json',\n",
       " 'tweet_collected_4Emily_2015_#GuerraContraLasDrogas.json',\n",
       " 'tweet_collected_4Emily_2015_#WarOnDrugs.json',\n",
       " 'tweet_collected_4Emily_2016_#DrugWar.json',\n",
       " 'tweet_collected_4Emily_2016_#GuerraContraLasDrogas.json',\n",
       " 'tweet_collected_4Emily_2016_#WarOnDrugs.json',\n",
       " 'tweet_collected_4Emily_2017_#DrugWar.json',\n",
       " 'tweet_collected_4Emily_2017_#GuerraContraLasDrogas.json',\n",
       " 'tweet_collected_4Emily_2017_#WarOnDrugs.json',\n",
       " 'tweet_collected_4Emily_2018_#DrugWar.json',\n",
       " 'tweet_collected_4Emily_2018_#GuerraContraLasDrogas.json',\n",
       " 'tweet_collected_4Emily_2018_#WarOnDrugs.json',\n",
       " 'tweet_collected_4Emily_2019_#DrugWar.json',\n",
       " 'tweet_collected_4Emily_2019_#GuerraContraLasDrogas.json',\n",
       " 'tweet_collected_4Emily_2019_#WarOnDrugs.json',\n",
       " 'tweet_collected_4Emily_2020_#DrugWar.json',\n",
       " 'tweet_collected_4Emily_2020_#GuerraContraLasDrogas.json',\n",
       " 'tweet_collected_4Emily_2020_#WarOnDrugs.json',\n",
       " 'tweet_collected_4Emily_2021_#DrugWar.json',\n",
       " 'tweet_collected_4Emily_2021_#GuerraContraLasDrogas.json',\n",
       " 'tweet_collected_4Emily_2021_#WarOnDrugs.json']"
      ]
     },
     "execution_count": 5,
     "metadata": {},
     "output_type": "execute_result"
    }
   ],
   "source": [
    "get_list_of_json_files()"
   ]
  },
  {
   "cell_type": "code",
   "execution_count": 7,
   "id": "99ec2fac",
   "metadata": {},
   "outputs": [],
   "source": [
    "def write_csv():\n",
    "    list_of_files = get_list_of_json_files()\n",
    "    for file in list_of_files:\n",
    "        with open(f'C:/Users/paras/Desktop/aaaaaaaaaaa/UNT Assignments/Research/Research - Drug war analysis/Data/Original data/{file}') as f:\n",
    "            data = json.load(f)   \n",
    "            df1 = json_normalize(data,['tweets',['data']])\n",
    "            table = pd.DataFrame()\n",
    "            FIELDS = ['country','full_name','id','place_type','name','country_code']\n",
    "            for j in range(len(data) - 1):\n",
    "                df=pd.DataFrame();\n",
    "                if 'includes' in data[j]['tweets']:\n",
    "                    for i in range(len(data[j]['tweets']['includes']['places'])):\n",
    "                        df = pd.json_normalize(data[j]['tweets']['includes']['places'][i])\n",
    "                        df = df[FIELDS]\n",
    "                        table = table.append(df)\n",
    "                else:\n",
    "                    table= table.append(['Nan','Nan','Nan','Nan','Nan','Nan'],ignore_index=False)\n",
    "        df1 = df1.append(table, ignore_index=False, sort=False)\n",
    "        \n",
    "           \n",
    "        outputfile=file.rsplit( \".\", 1 )[ 0 ] \n",
    "\n",
    "        df1.to_csv(f'C:/Users/paras/Desktop/aaaaaaaaaaa/UNT Assignments/Research/Research - Drug war analysis/Data/output_with places/{outputfile}.csv', index=False)\n",
    "\n"
   ]
  },
  {
   "cell_type": "code",
   "execution_count": 8,
   "id": "7e2dd445",
   "metadata": {},
   "outputs": [
    {
     "name": "stderr",
     "output_type": "stream",
     "text": [
      "<ipython-input-7-a3bc19798966>:6: FutureWarning: pandas.io.json.json_normalize is deprecated, use pandas.json_normalize instead\n",
      "  df1 = json_normalize(data,['tweets',['data']])\n"
     ]
    }
   ],
   "source": [
    "if __name__==\"__main__\":\n",
    "    write_csv()"
   ]
  },
  {
   "cell_type": "code",
   "execution_count": null,
   "id": "1c5dbf7a",
   "metadata": {},
   "outputs": [],
   "source": []
  },
  {
   "cell_type": "code",
   "execution_count": null,
   "id": "296dc474",
   "metadata": {},
   "outputs": [],
   "source": []
  },
  {
   "cell_type": "code",
   "execution_count": null,
   "id": "69375faf",
   "metadata": {},
   "outputs": [],
   "source": []
  }
 ],
 "metadata": {
  "kernelspec": {
   "display_name": "Python 3",
   "language": "python",
   "name": "python3"
  },
  "language_info": {
   "codemirror_mode": {
    "name": "ipython",
    "version": 3
   },
   "file_extension": ".py",
   "mimetype": "text/x-python",
   "name": "python",
   "nbconvert_exporter": "python",
   "pygments_lexer": "ipython3",
   "version": "3.8.8"
  }
 },
 "nbformat": 4,
 "nbformat_minor": 5
}
