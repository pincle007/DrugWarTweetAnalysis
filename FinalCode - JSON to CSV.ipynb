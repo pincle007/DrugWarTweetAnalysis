{
 "cells": [
  {
   "cell_type": "code",
   "execution_count": 48,
   "id": "4185bc77",
   "metadata": {},
   "outputs": [],
   "source": [
    "#Importing libraries\n",
    "\n",
    "import json\n",
    "import csv\n",
    "import os\n",
    "import numpy as np\n",
    "import pandas as pd\n",
    "from pandas.io.json import json_normalize"
   ]
  },
  {
   "cell_type": "code",
   "execution_count": 49,
   "id": "00791143",
   "metadata": {},
   "outputs": [],
   "source": [
    "# This function will take the list of JSON files present in your folder.\n",
    "\n",
    "def get_list_of_json_files():\n",
    "    list_of_files = os.listdir('C:/Users/paras/Desktop/aaaaaaaaaaa/UNT Assignments/Research/Research - Drug war analysis/Data/Original data')\n",
    "    return list_of_files"
   ]
  },
  {
   "cell_type": "code",
   "execution_count": 50,
   "id": "2a9e21ae",
   "metadata": {},
   "outputs": [
    {
     "data": {
      "text/plain": [
       "['tweet_collected_4Emily_2011_#DrugWar.json',\n",
       " 'tweet_collected_4Emily_2011_#GuerraContraLasDrogas.json',\n",
       " 'tweet_collected_4Emily_2011_#WarOnDrugs.json',\n",
       " 'tweet_collected_4Emily_2012_#DrugWar.json',\n",
       " 'tweet_collected_4Emily_2012_#GuerraContraLasDrogas.json',\n",
       " 'tweet_collected_4Emily_2012_#WarOnDrugs.json',\n",
       " 'tweet_collected_4Emily_2013_#DrugWar.json',\n",
       " 'tweet_collected_4Emily_2013_#GuerraContraLasDrogas.json',\n",
       " 'tweet_collected_4Emily_2013_#WarOnDrugs.json',\n",
       " 'tweet_collected_4Emily_2014_#DrugWar.json',\n",
       " 'tweet_collected_4Emily_2014_#GuerraContraLasDrogas.json',\n",
       " 'tweet_collected_4Emily_2014_#WarOnDrugs.json',\n",
       " 'tweet_collected_4Emily_2015_#DrugWar.json',\n",
       " 'tweet_collected_4Emily_2015_#GuerraContraLasDrogas.json',\n",
       " 'tweet_collected_4Emily_2015_#WarOnDrugs.json',\n",
       " 'tweet_collected_4Emily_2016_#DrugWar.json',\n",
       " 'tweet_collected_4Emily_2016_#GuerraContraLasDrogas.json',\n",
       " 'tweet_collected_4Emily_2016_#WarOnDrugs.json',\n",
       " 'tweet_collected_4Emily_2017_#DrugWar.json',\n",
       " 'tweet_collected_4Emily_2017_#GuerraContraLasDrogas.json',\n",
       " 'tweet_collected_4Emily_2017_#WarOnDrugs.json',\n",
       " 'tweet_collected_4Emily_2018_#DrugWar.json',\n",
       " 'tweet_collected_4Emily_2018_#GuerraContraLasDrogas.json',\n",
       " 'tweet_collected_4Emily_2018_#WarOnDrugs.json',\n",
       " 'tweet_collected_4Emily_2019_#DrugWar.json',\n",
       " 'tweet_collected_4Emily_2019_#GuerraContraLasDrogas.json',\n",
       " 'tweet_collected_4Emily_2019_#WarOnDrugs.json',\n",
       " 'tweet_collected_4Emily_2020_#DrugWar.json',\n",
       " 'tweet_collected_4Emily_2020_#GuerraContraLasDrogas.json',\n",
       " 'tweet_collected_4Emily_2020_#WarOnDrugs.json',\n",
       " 'tweet_collected_4Emily_2021_#DrugWar.json',\n",
       " 'tweet_collected_4Emily_2021_#GuerraContraLasDrogas.json',\n",
       " 'tweet_collected_4Emily_2021_#WarOnDrugs.json']"
      ]
     },
     "execution_count": 50,
     "metadata": {},
     "output_type": "execute_result"
    }
   ],
   "source": [
    "#Printing the list of JSON files present in your folder.\n",
    "get_list_of_json_files()"
   ]
  },
  {
   "cell_type": "code",
   "execution_count": 51,
   "id": "99ec2fac",
   "metadata": {},
   "outputs": [],
   "source": [
    "#Reaading the JSON files one by one and write them to different CSV files on the basis of 'tweets' and 'data' attributes.\n",
    "def write_csv():\n",
    "    list_of_files = get_list_of_json_files()\n",
    "    for file in list_of_files:\n",
    "        with open(f'C:/Users/paras/Desktop/aaaaaaaaaaa/UNT Assignments/Research/Research - Drug war analysis/Data/Original data/{file}') as f:\n",
    "            data = json.load(f)  \n",
    "            #'data' attribute is nested in 'tweet' attribute in our JSON structure.\n",
    "            df1 = json_normalize(data,['tweets',['data']])            \n",
    "        outputfile=file.rsplit( \".\", 1 )[ 0 ] \n",
    "\n",
    "        df1.to_csv(f'C:/Users/paras/Desktop/aaaaaaaaaaa/UNT Assignments/Research/Research - Drug war analysis/Data/output/{outputfile}.csv', index=False)\n",
    "\n"
   ]
  },
  {
   "cell_type": "code",
   "execution_count": 53,
   "id": "7e2dd445",
   "metadata": {},
   "outputs": [
    {
     "name": "stderr",
     "output_type": "stream",
     "text": [
      "<ipython-input-51-a10020c63758>:8: FutureWarning: pandas.io.json.json_normalize is deprecated, use pandas.json_normalize instead\n",
      "  df1 = json_normalize(data,['tweets',['data']])\n"
     ]
    }
   ],
   "source": [
    "if __name__==\"__main__\":\n",
    "    write_csv()"
   ]
  },
  {
   "cell_type": "code",
   "execution_count": 54,
   "id": "fa74ed5e",
   "metadata": {},
   "outputs": [],
   "source": [
    "# This function will take the list of CSV files present in your folder.\n",
    "\n",
    "def get_list_of_csv_files():\n",
    "    list_of_csv_files = os.listdir('C:/Users/paras/Desktop/aaaaaaaaaaa/UNT Assignments/Research/Research - Drug war analysis/Data/output')\n",
    "    return list_of_csv_files"
   ]
  },
  {
   "cell_type": "code",
   "execution_count": 55,
   "id": "1c5dbf7a",
   "metadata": {},
   "outputs": [
    {
     "data": {
      "text/plain": [
       "['tweet_collected_4Emily_2011_#DrugWar.csv',\n",
       " 'tweet_collected_4Emily_2011_#GuerraContraLasDrogas.csv',\n",
       " 'tweet_collected_4Emily_2011_#WarOnDrugs.csv',\n",
       " 'tweet_collected_4Emily_2012_#DrugWar.csv',\n",
       " 'tweet_collected_4Emily_2012_#GuerraContraLasDrogas.csv',\n",
       " 'tweet_collected_4Emily_2012_#WarOnDrugs.csv',\n",
       " 'tweet_collected_4Emily_2013_#DrugWar.csv',\n",
       " 'tweet_collected_4Emily_2013_#GuerraContraLasDrogas.csv',\n",
       " 'tweet_collected_4Emily_2013_#WarOnDrugs.csv',\n",
       " 'tweet_collected_4Emily_2014_#DrugWar.csv',\n",
       " 'tweet_collected_4Emily_2014_#GuerraContraLasDrogas.csv',\n",
       " 'tweet_collected_4Emily_2014_#WarOnDrugs.csv',\n",
       " 'tweet_collected_4Emily_2015_#DrugWar.csv',\n",
       " 'tweet_collected_4Emily_2015_#GuerraContraLasDrogas.csv',\n",
       " 'tweet_collected_4Emily_2015_#WarOnDrugs.csv',\n",
       " 'tweet_collected_4Emily_2016_#DrugWar.csv',\n",
       " 'tweet_collected_4Emily_2016_#GuerraContraLasDrogas.csv',\n",
       " 'tweet_collected_4Emily_2016_#WarOnDrugs.csv',\n",
       " 'tweet_collected_4Emily_2017_#DrugWar.csv',\n",
       " 'tweet_collected_4Emily_2017_#GuerraContraLasDrogas.csv',\n",
       " 'tweet_collected_4Emily_2017_#WarOnDrugs.csv',\n",
       " 'tweet_collected_4Emily_2018_#DrugWar.csv',\n",
       " 'tweet_collected_4Emily_2018_#GuerraContraLasDrogas.csv',\n",
       " 'tweet_collected_4Emily_2018_#WarOnDrugs.csv',\n",
       " 'tweet_collected_4Emily_2019_#DrugWar.csv',\n",
       " 'tweet_collected_4Emily_2019_#GuerraContraLasDrogas.csv',\n",
       " 'tweet_collected_4Emily_2019_#WarOnDrugs.csv',\n",
       " 'tweet_collected_4Emily_2020_#DrugWar.csv',\n",
       " 'tweet_collected_4Emily_2020_#GuerraContraLasDrogas.csv',\n",
       " 'tweet_collected_4Emily_2020_#WarOnDrugs.csv',\n",
       " 'tweet_collected_4Emily_2021_#DrugWar.csv',\n",
       " 'tweet_collected_4Emily_2021_#GuerraContraLasDrogas.csv',\n",
       " 'tweet_collected_4Emily_2021_#WarOnDrugs.csv']"
      ]
     },
     "execution_count": 55,
     "metadata": {},
     "output_type": "execute_result"
    }
   ],
   "source": [
    "#Printing the list of JSON files present in your folder.\n",
    "\n",
    "get_list_of_csv_files()"
   ]
  },
  {
   "cell_type": "code",
   "execution_count": 60,
   "id": "296dc474",
   "metadata": {},
   "outputs": [
    {
     "name": "stdout",
     "output_type": "stream",
     "text": [
      "         0                         1   \\\n",
      "0      lang                created_at   \n",
      "1        en  2011-12-29T23:27:00.000Z   \n",
      "2        en  2011-12-29T23:26:51.000Z   \n",
      "3        en  2011-12-29T23:25:40.000Z   \n",
      "4        en  2011-12-29T23:22:54.000Z   \n",
      "...     ...                       ...   \n",
      "58041    en                  22352951   \n",
      "58042    en       1328522505070514178   \n",
      "58043    en       1328522505070514178   \n",
      "58044    en        835969879752597504   \n",
      "58045    en       1222605046833188864   \n",
      "\n",
      "                                                      2   \\\n",
      "0                                              author_id   \n",
      "1                                              255181901   \n",
      "2                                               30443975   \n",
      "3                                              255181901   \n",
      "4                                              235334268   \n",
      "...                                                  ...   \n",
      "58041  Life would be so much better for millions of A...   \n",
      "58042  RT @MaryRuwart: Using physical force against p...   \n",
      "58043  RT @NewDemocratPlus: 10-15 years ago #JohnStos...   \n",
      "58044  RT @TacticalDogLive: Fresno Police K9 dies sud...   \n",
      "58045  RT @TacticalDogLive: Update: Vacaville police ...   \n",
      "\n",
      "                                                      3   \\\n",
      "0                                                   text   \n",
      "1      Great piece by @richardbranson on ENDING the #...   \n",
      "2      RT @jacobsullum: Brits may copy America's \"zer...   \n",
      "3      #RestoreReality is 100% for legalizing #mariju...   \n",
      "4      Pig manure, a cost-effective weapon against cr...   \n",
      "...                                                  ...   \n",
      "58041                                1344814118247817220   \n",
      "58042                                1344806611903242240   \n",
      "58043                                1344806551446544384   \n",
      "58044                                1344802914779291655   \n",
      "58045                                1344798579119038466   \n",
      "\n",
      "                             4                             5   \\\n",
      "0                            id  public_metrics.retweet_count   \n",
      "1            152531088537948161                             0   \n",
      "2            152531051804237825                             1   \n",
      "3            152530753396289536                             0   \n",
      "4            152530060404981760                             0   \n",
      "...                         ...                           ...   \n",
      "58041  2021-01-01T01:14:05.000Z                             0   \n",
      "58042  2021-01-01T00:44:16.000Z                            10   \n",
      "58043  2021-01-01T00:44:01.000Z                             1   \n",
      "58044  2021-01-01T00:29:34.000Z                            28   \n",
      "58045  2021-01-01T00:12:21.000Z                            36   \n",
      "\n",
      "                               6                          7   \\\n",
      "0      public_metrics.reply_count  public_metrics.like_count   \n",
      "1                               0                          0   \n",
      "2                               0                          0   \n",
      "3                               0                          0   \n",
      "4                               0                          0   \n",
      "...                           ...                        ...   \n",
      "58041                           0                          1   \n",
      "58042                           0                          0   \n",
      "58043                           0                          0   \n",
      "58044                           0                          0   \n",
      "58045                           0                          0   \n",
      "\n",
      "                               8             9    10   11  \n",
      "0      public_metrics.quote_count  geo.place_id  NaN  NaN  \n",
      "1                               0           NaN  NaN  NaN  \n",
      "2                               0           NaN  NaN  NaN  \n",
      "3                               0           NaN  NaN  NaN  \n",
      "4                               0           NaN  NaN  NaN  \n",
      "...                           ...           ...  ...  ...  \n",
      "58041                           0           NaN  NaN  NaN  \n",
      "58042                           0           NaN  NaN  NaN  \n",
      "58043                           0           NaN  NaN  NaN  \n",
      "58044                           0           NaN  NaN  NaN  \n",
      "58045                           0           NaN  NaN  NaN  \n",
      "\n",
      "[270522 rows x 12 columns]\n"
     ]
    }
   ],
   "source": [
    "# Reading CSV files one by one and concatenate it in single data frame. \n",
    "\n",
    "csv_data = pd.DataFrame()\n",
    "list_of_csv_files = get_list_of_csv_files()\n",
    "for file in list_of_csv_files:\n",
    "    with open(f'C:/Users/paras/Desktop/aaaaaaaaaaa/UNT Assignments/Research/Research - Drug war analysis/Data/output/{file}', encoding='utf-8') as f:\n",
    "        single_csv_data = pd.read_csv(f, header=None)\n",
    "        csv_data=csv_data.append(single_csv_data)\n",
    "\n",
    "print(csv_data)\n",
    "        "
   ]
  },
  {
   "cell_type": "code",
   "execution_count": 46,
   "id": "69375faf",
   "metadata": {},
   "outputs": [
    {
     "ename": "AttributeError",
     "evalue": "module 'numpy' has no attribute 'head'",
     "output_type": "error",
     "traceback": [
      "\u001b[1;31m---------------------------------------------------------------------------\u001b[0m",
      "\u001b[1;31mAttributeError\u001b[0m                            Traceback (most recent call last)",
      "\u001b[1;32m<ipython-input-46-40d66c3f73fd>\u001b[0m in \u001b[0;36m<module>\u001b[1;34m\u001b[0m\n\u001b[1;32m----> 1\u001b[1;33m \u001b[0mnp\u001b[0m\u001b[1;33m.\u001b[0m\u001b[0mhead\u001b[0m\u001b[1;33m(\u001b[0m\u001b[0mcsv_data\u001b[0m\u001b[1;33m)\u001b[0m\u001b[1;33m\u001b[0m\u001b[1;33m\u001b[0m\u001b[0m\n\u001b[0m",
      "\u001b[1;32m~\\anaconda3\\lib\\site-packages\\numpy\\__init__.py\u001b[0m in \u001b[0;36m__getattr__\u001b[1;34m(attr)\u001b[0m\n\u001b[0;32m    301\u001b[0m                 \u001b[1;32mreturn\u001b[0m \u001b[0mTester\u001b[0m\u001b[1;33m\u001b[0m\u001b[1;33m\u001b[0m\u001b[0m\n\u001b[0;32m    302\u001b[0m \u001b[1;33m\u001b[0m\u001b[0m\n\u001b[1;32m--> 303\u001b[1;33m             raise AttributeError(\"module {!r} has no attribute \"\n\u001b[0m\u001b[0;32m    304\u001b[0m                                  \"{!r}\".format(__name__, attr))\n\u001b[0;32m    305\u001b[0m \u001b[1;33m\u001b[0m\u001b[0m\n",
      "\u001b[1;31mAttributeError\u001b[0m: module 'numpy' has no attribute 'head'"
     ]
    }
   ],
   "source": []
  },
  {
   "cell_type": "code",
   "execution_count": 59,
   "id": "eb9532ef",
   "metadata": {},
   "outputs": [
    {
     "ename": "NameError",
     "evalue": "name 'csvdata' is not defined",
     "output_type": "error",
     "traceback": [
      "\u001b[1;31m---------------------------------------------------------------------------\u001b[0m",
      "\u001b[1;31mNameError\u001b[0m                                 Traceback (most recent call last)",
      "\u001b[1;32m<ipython-input-59-7474ba651ae1>\u001b[0m in \u001b[0;36m<module>\u001b[1;34m\u001b[0m\n\u001b[1;32m----> 1\u001b[1;33m \u001b[0mprint\u001b[0m\u001b[1;33m(\u001b[0m\u001b[0mcsvdata\u001b[0m\u001b[1;33m[\u001b[0m\u001b[1;36m538596\u001b[0m\u001b[1;33m]\u001b[0m\u001b[1;33m)\u001b[0m\u001b[1;33m\u001b[0m\u001b[1;33m\u001b[0m\u001b[0m\n\u001b[0m",
      "\u001b[1;31mNameError\u001b[0m: name 'csvdata' is not defined"
     ]
    }
   ],
   "source": []
  },
  {
   "cell_type": "code",
   "execution_count": null,
   "id": "e1a0de56",
   "metadata": {},
   "outputs": [],
   "source": []
  }
 ],
 "metadata": {
  "kernelspec": {
   "display_name": "Python 3",
   "language": "python",
   "name": "python3"
  },
  "language_info": {
   "codemirror_mode": {
    "name": "ipython",
    "version": 3
   },
   "file_extension": ".py",
   "mimetype": "text/x-python",
   "name": "python",
   "nbconvert_exporter": "python",
   "pygments_lexer": "ipython3",
   "version": "3.8.8"
  }
 },
 "nbformat": 4,
 "nbformat_minor": 5
}
