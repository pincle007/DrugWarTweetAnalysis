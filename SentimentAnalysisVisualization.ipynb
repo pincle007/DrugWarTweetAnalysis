{
 "cells": [
  {
   "cell_type": "code",
   "execution_count": 19,
   "id": "114e3d05",
   "metadata": {},
   "outputs": [],
   "source": [
    "import pandas as pd\n",
    "import matplotlib.pyplot as plt\n",
    "import seaborn as sn\n",
    "%matplotlib inline"
   ]
  },
  {
   "cell_type": "code",
   "execution_count": 3,
   "id": "c9eab0ce",
   "metadata": {},
   "outputs": [
    {
     "name": "stderr",
     "output_type": "stream",
     "text": [
      "/home/isiia/anaconda3/lib/python3.8/site-packages/IPython/core/interactiveshell.py:3165: DtypeWarning: Columns (2,13,14,15,16) have mixed types.Specify dtype option on import or set low_memory=False.\n",
      "  has_raised = await self.run_ast_nodes(code_ast.body, cell_name,\n"
     ]
    }
   ],
   "source": [
    "df = pd.read_csv('/home/isiia/Downloads/Pincle/Data/Sentiment Analysis/whole_sentiment_analysis_roberta.csv')"
   ]
  },
  {
   "cell_type": "code",
   "execution_count": 5,
   "id": "44baa524",
   "metadata": {},
   "outputs": [],
   "source": [
    "df.columns =['Unnamed: 0', 'Unnamed: 0.1', 'hashtag', 'id', 'created_at', 'lang', 'author_id', 'text', 'public_metricsretweet_count', 'public_metricsreply_count', 'public_metricslike_count', 'public_metricsquote_count', 'x1', 'x2', 'x3', 'city', 'geoplace_id', 'hashtags extracted', 'CleanedTweet', 'sentiment result']"
   ]
  },
  {
   "cell_type": "code",
   "execution_count": 8,
   "id": "eaf31293",
   "metadata": {},
   "outputs": [],
   "source": [
    "df.drop(['Unnamed: 0', 'Unnamed: 0.1', 'x1', 'x2', 'x3', 'city',], axis='columns', inplace=True)"
   ]
  },
  {
   "cell_type": "code",
   "execution_count": 10,
   "id": "5fdcd274",
   "metadata": {},
   "outputs": [],
   "source": [
    "#Create year column\n",
    "new = df['created_at'].str.split(\"-\", n=1, expand=True)\n",
    "df[\"Year\"] = new[0]\n"
   ]
  },
  {
   "cell_type": "code",
   "execution_count": 12,
   "id": "183eda9a",
   "metadata": {},
   "outputs": [
    {
     "data": {
      "text/html": [
       "<div>\n",
       "<style scoped>\n",
       "    .dataframe tbody tr th:only-of-type {\n",
       "        vertical-align: middle;\n",
       "    }\n",
       "\n",
       "    .dataframe tbody tr th {\n",
       "        vertical-align: top;\n",
       "    }\n",
       "\n",
       "    .dataframe thead th {\n",
       "        text-align: right;\n",
       "    }\n",
       "</style>\n",
       "<table border=\"1\" class=\"dataframe\">\n",
       "  <thead>\n",
       "    <tr style=\"text-align: right;\">\n",
       "      <th></th>\n",
       "      <th>hashtag</th>\n",
       "      <th>id</th>\n",
       "      <th>created_at</th>\n",
       "      <th>lang</th>\n",
       "      <th>author_id</th>\n",
       "      <th>text</th>\n",
       "      <th>public_metricsretweet_count</th>\n",
       "      <th>public_metricsreply_count</th>\n",
       "      <th>public_metricslike_count</th>\n",
       "      <th>public_metricsquote_count</th>\n",
       "      <th>geoplace_id</th>\n",
       "      <th>hashtags extracted</th>\n",
       "      <th>CleanedTweet</th>\n",
       "      <th>sentiment result</th>\n",
       "      <th>Year</th>\n",
       "    </tr>\n",
       "  </thead>\n",
       "  <tbody>\n",
       "    <tr>\n",
       "      <th>0</th>\n",
       "      <td>#WarOnDrugs</td>\n",
       "      <td>4.170000e+17</td>\n",
       "      <td>2013-12-29T22:51:34.000Z</td>\n",
       "      <td>en</td>\n",
       "      <td>481389375.0</td>\n",
       "      <td>#warondrugs #newjimcrow #itsreal @RollingStone...</td>\n",
       "      <td>0.0</td>\n",
       "      <td>0.0</td>\n",
       "      <td>0.0</td>\n",
       "      <td>0.0</td>\n",
       "      <td>city</td>\n",
       "      <td>warondrugs, itsreal, newjimcrow</td>\n",
       "      <td>warondrugs newjimcrow israel rollingstone than...</td>\n",
       "      <td>2</td>\n",
       "      <td>2013</td>\n",
       "    </tr>\n",
       "    <tr>\n",
       "      <th>1</th>\n",
       "      <td>#WarOnDrugs</td>\n",
       "      <td>4.170000e+17</td>\n",
       "      <td>2013-12-29T22:49:46.000Z</td>\n",
       "      <td>en</td>\n",
       "      <td>415826305.0</td>\n",
       "      <td>@Aennie1 NSA's main target with WHITETAMALE is...</td>\n",
       "      <td>0.0</td>\n",
       "      <td>0.0</td>\n",
       "      <td>0.0</td>\n",
       "      <td>0.0</td>\n",
       "      <td>city</td>\n",
       "      <td>WarOnDrugs, DerSPIEGEL</td>\n",
       "      <td>pennies was main target with whitetamale is me...</td>\n",
       "      <td>2</td>\n",
       "      <td>2013</td>\n",
       "    </tr>\n",
       "    <tr>\n",
       "      <th>2</th>\n",
       "      <td>#WarOnDrugs</td>\n",
       "      <td>4.170000e+17</td>\n",
       "      <td>2013-12-29T22:40:15.000Z</td>\n",
       "      <td>en</td>\n",
       "      <td>251012783.0</td>\n",
       "      <td>Colorado pot sales to begin in 2014 #warondrug...</td>\n",
       "      <td>0.0</td>\n",
       "      <td>0.0</td>\n",
       "      <td>0.0</td>\n",
       "      <td>0.0</td>\n",
       "      <td>admin</td>\n",
       "      <td>warondrugs, colorado, drugs</td>\n",
       "      <td>colorado pot sales to begin in 2014 warondrugs...</td>\n",
       "      <td>2</td>\n",
       "      <td>2013</td>\n",
       "    </tr>\n",
       "    <tr>\n",
       "      <th>3</th>\n",
       "      <td>#WarOnDrugs</td>\n",
       "      <td>4.170000e+17</td>\n",
       "      <td>2013-12-29T21:59:21.000Z</td>\n",
       "      <td>en</td>\n",
       "      <td>302152701.0</td>\n",
       "      <td>#Schumacher may die f/ skiing. Hypocritical t ...</td>\n",
       "      <td>0.0</td>\n",
       "      <td>0.0</td>\n",
       "      <td>1.0</td>\n",
       "      <td>0.0</td>\n",
       "      <td>city</td>\n",
       "      <td>WarOnDrugs, Schumacher</td>\n",
       "      <td>schumacher may die f skin hypocritical t allow...</td>\n",
       "      <td>1</td>\n",
       "      <td>2013</td>\n",
       "    </tr>\n",
       "    <tr>\n",
       "      <th>4</th>\n",
       "      <td>#WarOnDrugs</td>\n",
       "      <td>4.170000e+17</td>\n",
       "      <td>2013-12-29T21:59:07.000Z</td>\n",
       "      <td>en</td>\n",
       "      <td>415826305.0</td>\n",
       "      <td>.@Aennie1  These are new details on #Snowden d...</td>\n",
       "      <td>0.0</td>\n",
       "      <td>0.0</td>\n",
       "      <td>0.0</td>\n",
       "      <td>0.0</td>\n",
       "      <td>city</td>\n",
       "      <td>WarOnDrugs, Snowden</td>\n",
       "      <td>pennies these are new details on sodden docs o...</td>\n",
       "      <td>2</td>\n",
       "      <td>2013</td>\n",
       "    </tr>\n",
       "  </tbody>\n",
       "</table>\n",
       "</div>"
      ],
      "text/plain": [
       "       hashtag            id                created_at lang    author_id  \\\n",
       "0  #WarOnDrugs  4.170000e+17  2013-12-29T22:51:34.000Z   en  481389375.0   \n",
       "1  #WarOnDrugs  4.170000e+17  2013-12-29T22:49:46.000Z   en  415826305.0   \n",
       "2  #WarOnDrugs  4.170000e+17  2013-12-29T22:40:15.000Z   en  251012783.0   \n",
       "3  #WarOnDrugs  4.170000e+17  2013-12-29T21:59:21.000Z   en  302152701.0   \n",
       "4  #WarOnDrugs  4.170000e+17  2013-12-29T21:59:07.000Z   en  415826305.0   \n",
       "\n",
       "                                                text  \\\n",
       "0  #warondrugs #newjimcrow #itsreal @RollingStone...   \n",
       "1  @Aennie1 NSA's main target with WHITETAMALE is...   \n",
       "2  Colorado pot sales to begin in 2014 #warondrug...   \n",
       "3  #Schumacher may die f/ skiing. Hypocritical t ...   \n",
       "4  .@Aennie1  These are new details on #Snowden d...   \n",
       "\n",
       "   public_metricsretweet_count  public_metricsreply_count  \\\n",
       "0                          0.0                        0.0   \n",
       "1                          0.0                        0.0   \n",
       "2                          0.0                        0.0   \n",
       "3                          0.0                        0.0   \n",
       "4                          0.0                        0.0   \n",
       "\n",
       "   public_metricslike_count  public_metricsquote_count geoplace_id  \\\n",
       "0                       0.0                        0.0        city   \n",
       "1                       0.0                        0.0        city   \n",
       "2                       0.0                        0.0       admin   \n",
       "3                       1.0                        0.0        city   \n",
       "4                       0.0                        0.0        city   \n",
       "\n",
       "                hashtags extracted  \\\n",
       "0  warondrugs, itsreal, newjimcrow   \n",
       "1           WarOnDrugs, DerSPIEGEL   \n",
       "2      warondrugs, colorado, drugs   \n",
       "3           WarOnDrugs, Schumacher   \n",
       "4              WarOnDrugs, Snowden   \n",
       "\n",
       "                                        CleanedTweet  sentiment result  Year  \n",
       "0  warondrugs newjimcrow israel rollingstone than...                 2  2013  \n",
       "1  pennies was main target with whitetamale is me...                 2  2013  \n",
       "2  colorado pot sales to begin in 2014 warondrugs...                 2  2013  \n",
       "3  schumacher may die f skin hypocritical t allow...                 1  2013  \n",
       "4  pennies these are new details on sodden docs o...                 2  2013  "
      ]
     },
     "execution_count": 12,
     "metadata": {},
     "output_type": "execute_result"
    }
   ],
   "source": [
    "df.head()"
   ]
  },
  {
   "cell_type": "code",
   "execution_count": 21,
   "id": "277315b9",
   "metadata": {},
   "outputs": [
    {
     "data": {
      "text/plain": [
       "<AxesSubplot:xlabel='Year'>"
      ]
     },
     "execution_count": 21,
     "metadata": {},
     "output_type": "execute_result"
    },
    {
     "data": {
      "image/png": "[encoded data removed]",
      "text/plain": [
       "<Figure size 432x288 with 1 Axes>"
      ]
     },
     "metadata": {
      "needs_background": "light"
     },
     "output_type": "display_data"
    }
   ],
   "source": [
    "pd.crosstab(df['Year'],df['sentiment result']).plot.bar()"
   ]
  },
  {
   "cell_type": "code",
   "execution_count": null,
   "id": "c385c5c6",
   "metadata": {},
   "outputs": [],
   "source": []
  }
 ],
 "metadata": {
  "kernelspec": {
   "display_name": "Python 3",
   "language": "python",
   "name": "python3"
  },
  "language_info": {
   "codemirror_mode": {
    "name": "ipython",
    "version": 3
   },
   "file_extension": ".py",
   "mimetype": "text/x-python",
   "name": "python",
   "nbconvert_exporter": "python",
   "pygments_lexer": "ipython3",
   "version": "3.8.8"
  }
 },
 "nbformat": 4,
 "nbformat_minor": 5
}
