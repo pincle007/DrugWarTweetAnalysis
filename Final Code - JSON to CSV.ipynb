{
 "cells": [
  {
   "cell_type": "code",
   "execution_count": 8,
   "id": "4185bc77",
   "metadata": {},
   "outputs": [],
   "source": [
    "import json\n",
    "import csv\n",
    "import os\n",
    "import numpy as np\n",
    "import pandas as pd\n",
    "from pandas.io.json import json_normalize"
   ]
  },
  {
   "cell_type": "code",
   "execution_count": 9,
   "id": "00791143",
   "metadata": {},
   "outputs": [],
   "source": [
    "def get_list_of_json_files():\n",
    "    list_of_files = os.listdir('C:/Users/paras/Desktop/aaaaaaaaaaa/UNT Assignments/Research/Research - Drug war analysis/Data/Original data')\n",
    "    return list_of_files"
   ]
  },
  {
   "cell_type": "code",
   "execution_count": 10,
   "id": "2a9e21ae",
   "metadata": {},
   "outputs": [
    {
     "data": {
      "text/plain": [
       "['tweet_collected_4Emily_2011_#DrugWar.json',\n",
       " 'tweet_collected_4Emily_2011_#GuerraContraLasDrogas.json',\n",
       " 'tweet_collected_4Emily_2011_#WarOnDrugs.json',\n",
       " 'tweet_collected_4Emily_2012_#DrugWar.json',\n",
       " 'tweet_collected_4Emily_2012_#GuerraContraLasDrogas.json',\n",
       " 'tweet_collected_4Emily_2012_#WarOnDrugs.json',\n",
       " 'tweet_collected_4Emily_2013_#DrugWar.json',\n",
       " 'tweet_collected_4Emily_2013_#GuerraContraLasDrogas.json',\n",
       " 'tweet_collected_4Emily_2013_#WarOnDrugs.json',\n",
       " 'tweet_collected_4Emily_2014_#DrugWar.json',\n",
       " 'tweet_collected_4Emily_2014_#GuerraContraLasDrogas.json',\n",
       " 'tweet_collected_4Emily_2014_#WarOnDrugs.json',\n",
       " 'tweet_collected_4Emily_2015_#DrugWar.json',\n",
       " 'tweet_collected_4Emily_2015_#GuerraContraLasDrogas.json',\n",
       " 'tweet_collected_4Emily_2015_#WarOnDrugs.json',\n",
       " 'tweet_collected_4Emily_2016_#DrugWar.json',\n",
       " 'tweet_collected_4Emily_2016_#GuerraContraLasDrogas.json',\n",
       " 'tweet_collected_4Emily_2016_#WarOnDrugs.json',\n",
       " 'tweet_collected_4Emily_2017_#DrugWar.json',\n",
       " 'tweet_collected_4Emily_2017_#GuerraContraLasDrogas.json',\n",
       " 'tweet_collected_4Emily_2017_#WarOnDrugs.json',\n",
       " 'tweet_collected_4Emily_2018_#DrugWar.json',\n",
       " 'tweet_collected_4Emily_2018_#GuerraContraLasDrogas.json',\n",
       " 'tweet_collected_4Emily_2018_#WarOnDrugs.json',\n",
       " 'tweet_collected_4Emily_2019_#DrugWar.json',\n",
       " 'tweet_collected_4Emily_2019_#GuerraContraLasDrogas.json',\n",
       " 'tweet_collected_4Emily_2019_#WarOnDrugs.json',\n",
       " 'tweet_collected_4Emily_2020_#DrugWar.json',\n",
       " 'tweet_collected_4Emily_2020_#GuerraContraLasDrogas.json',\n",
       " 'tweet_collected_4Emily_2020_#WarOnDrugs.json',\n",
       " 'tweet_collected_4Emily_2021_#DrugWar.json',\n",
       " 'tweet_collected_4Emily_2021_#GuerraContraLasDrogas.json',\n",
       " 'tweet_collected_4Emily_2021_#WarOnDrugs.json']"
      ]
     },
     "execution_count": 10,
     "metadata": {},
     "output_type": "execute_result"
    }
   ],
   "source": [
    "get_list_of_json_files()"
   ]
  },
  {
   "cell_type": "code",
   "execution_count": 28,
   "id": "99ec2fac",
   "metadata": {},
   "outputs": [],
   "source": [
    "def write_csv():\n",
    "    list_of_files = get_list_of_json_files()\n",
    "    for file in list_of_files:\n",
    "        with open(f'C:/Users/paras/Desktop/aaaaaaaaaaa/UNT Assignments/Research/Research - Drug war analysis/Data/Original data/{file}') as f:\n",
    "            data = json.load(f)   \n",
    "            df1 = json_normalize(data,['tweets',['data']])            \n",
    "        outputfile=file.rsplit( \".\", 1 )[ 0 ] \n",
    "\n",
    "        df1.to_csv(f'C:/Users/paras/Desktop/aaaaaaaaaaa/UNT Assignments/Research/Research - Drug war analysis/Data/output/{outputfile}.csv', encoding=\"utf-8\", index=False)\n",
    "\n"
   ]
  },
  {
   "cell_type": "code",
   "execution_count": 29,
   "id": "7e2dd445",
   "metadata": {},
   "outputs": [
    {
     "name": "stderr",
     "output_type": "stream",
     "text": [
      "<ipython-input-28-7e5732621b82>:6: FutureWarning: pandas.io.json.json_normalize is deprecated, use pandas.json_normalize instead\n",
      "  df1 = json_normalize(data,['tweets',['data']])\n"
     ]
    }
   ],
   "source": [
    "if __name__==\"__main__\":\n",
    "    write_csv()"
   ]
  },
  {
   "cell_type": "code",
   "execution_count": 30,
   "id": "1ca21040",
   "metadata": {},
   "outputs": [],
   "source": [
    "def get_list_of_csv_files():\n",
    "    list_of_csv_files = os.listdir('C:/Users/paras/Desktop/aaaaaaaaaaa/UNT Assignments/Research/Research - Drug war analysis/Data/output')\n",
    "    return list_of_csv_files"
   ]
  },
  {
   "cell_type": "code",
   "execution_count": 31,
   "id": "1c5dbf7a",
   "metadata": {},
   "outputs": [
    {
     "data": {
      "text/plain": [
       "['tweet_collected_4Emily_2011_#DrugWar.csv',\n",
       " 'tweet_collected_4Emily_2011_#GuerraContraLasDrogas.csv',\n",
       " 'tweet_collected_4Emily_2011_#WarOnDrugs.csv',\n",
       " 'tweet_collected_4Emily_2012_#DrugWar.csv',\n",
       " 'tweet_collected_4Emily_2012_#GuerraContraLasDrogas.csv',\n",
       " 'tweet_collected_4Emily_2012_#WarOnDrugs.csv',\n",
       " 'tweet_collected_4Emily_2013_#DrugWar.csv',\n",
       " 'tweet_collected_4Emily_2013_#GuerraContraLasDrogas.csv',\n",
       " 'tweet_collected_4Emily_2013_#WarOnDrugs.csv',\n",
       " 'tweet_collected_4Emily_2014_#DrugWar.csv',\n",
       " 'tweet_collected_4Emily_2014_#GuerraContraLasDrogas.csv',\n",
       " 'tweet_collected_4Emily_2014_#WarOnDrugs.csv',\n",
       " 'tweet_collected_4Emily_2015_#DrugWar.csv',\n",
       " 'tweet_collected_4Emily_2015_#GuerraContraLasDrogas.csv',\n",
       " 'tweet_collected_4Emily_2015_#WarOnDrugs.csv',\n",
       " 'tweet_collected_4Emily_2016_#DrugWar.csv',\n",
       " 'tweet_collected_4Emily_2016_#GuerraContraLasDrogas.csv',\n",
       " 'tweet_collected_4Emily_2016_#WarOnDrugs.csv',\n",
       " 'tweet_collected_4Emily_2017_#DrugWar.csv',\n",
       " 'tweet_collected_4Emily_2017_#GuerraContraLasDrogas.csv',\n",
       " 'tweet_collected_4Emily_2017_#WarOnDrugs.csv',\n",
       " 'tweet_collected_4Emily_2018_#DrugWar.csv',\n",
       " 'tweet_collected_4Emily_2018_#GuerraContraLasDrogas.csv',\n",
       " 'tweet_collected_4Emily_2018_#WarOnDrugs.csv',\n",
       " 'tweet_collected_4Emily_2019_#DrugWar.csv',\n",
       " 'tweet_collected_4Emily_2019_#GuerraContraLasDrogas.csv',\n",
       " 'tweet_collected_4Emily_2019_#WarOnDrugs.csv',\n",
       " 'tweet_collected_4Emily_2020_#DrugWar.csv',\n",
       " 'tweet_collected_4Emily_2020_#GuerraContraLasDrogas.csv',\n",
       " 'tweet_collected_4Emily_2020_#WarOnDrugs.csv',\n",
       " 'tweet_collected_4Emily_2021_#DrugWar.csv',\n",
       " 'tweet_collected_4Emily_2021_#GuerraContraLasDrogas.csv',\n",
       " 'tweet_collected_4Emily_2021_#WarOnDrugs.csv']"
      ]
     },
     "execution_count": 31,
     "metadata": {},
     "output_type": "execute_result"
    }
   ],
   "source": [
    "get_list_of_csv_files()"
   ]
  },
  {
   "cell_type": "code",
   "execution_count": 34,
   "id": "296dc474",
   "metadata": {},
   "outputs": [
    {
     "name": "stdout",
     "output_type": "stream",
     "text": [
      "                                                        0\n",
      "0       lang,created_at,author_id,text,id,public_metri...\n",
      "1       en,2011-12-29T23:27:00.000Z,255181901,Great pi...\n",
      "2       en,2011-12-29T23:26:51.000Z,30443975,\"RT @jaco...\n",
      "3       en,2011-12-29T23:25:40.000Z,255181901,\"#Restor...\n",
      "4       en,2011-12-29T23:22:54.000Z,235334268,\"Pig man...\n",
      "...                                                   ...\n",
      "213365  en,835969879752597504,\"RT @TacticalDogLive: Fr...\n",
      "213366                                         What?!?!\\n\n",
      "213367  😢RIP Stark. You got wings now. Condolences to ...\n",
      "213368  en,1222605046833188864,\"RT @TacticalDogLive: U...\n",
      "213369  🐶Nice 1st step. Will follow this c…\",134479857...\n",
      "\n",
      "[538596 rows x 1 columns]\n"
     ]
    }
   ],
   "source": [
    "csv_data = pd.DataFrame()\n",
    "list_of_csv_files = get_list_of_csv_files()\n",
    "for file in list_of_csv_files:\n",
    "    with open(f'C:/Users/paras/Desktop/aaaaaaaaaaa/UNT Assignments/Research/Research - Drug war analysis/Data/output/{file}', encoding='utf-8') as f:\n",
    "        single_csv_data = pd.DataFrame(f)\n",
    "        csv_data=csv_data.append(single_csv_data)\n",
    "\n",
    "print(csv_data)\n",
    "        "
   ]
  },
  {
   "cell_type": "code",
   "execution_count": null,
   "id": "69375faf",
   "metadata": {},
   "outputs": [],
   "source": []
  },
  {
   "cell_type": "code",
   "execution_count": null,
   "id": "02f140ae",
   "metadata": {},
   "outputs": [],
   "source": []
  }
 ],
 "metadata": {
  "kernelspec": {
   "display_name": "Python 3",
   "language": "python",
   "name": "python3"
  },
  "language_info": {
   "codemirror_mode": {
    "name": "ipython",
    "version": 3
   },
   "file_extension": ".py",
   "mimetype": "text/x-python",
   "name": "python",
   "nbconvert_exporter": "python",
   "pygments_lexer": "ipython3",
   "version": "3.8.8"
  }
 },
 "nbformat": 4,
 "nbformat_minor": 5
}
